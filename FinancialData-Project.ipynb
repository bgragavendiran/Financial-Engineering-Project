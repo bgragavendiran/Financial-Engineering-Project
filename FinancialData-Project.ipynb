{
 "cells": [
  {
   "cell_type": "code",
   "execution_count": 14,
   "id": "7ff5cc98-8be2-4a97-9dff-6f290791d560",
   "metadata": {},
   "outputs": [
    {
     "name": "stdout",
     "output_type": "stream",
     "text": [
      "BOND_EUR Kraken Historical Data\n",
      "Crude Oil WTI Futures - Apr 24 (CLJ4)\n",
      "India 3-Month Bond Yield Historical Data\n",
      "Namibia 3-Month Bond Yield Historical Data\n",
      "S&P 500 (US500)\n",
      "SBI Gold ETF (SBIG)\n",
      "SPDR® Dow Jones Industrial Average ETF Trust (SPDR)\n",
      "UK 10 YR Gilt Futures Historical Data\n",
      "US Soybeans Futures - Mar 24 (ZSH4)\n",
      "US Wheat Futures - Mar 24 (ZWH4)\n"
     ]
    }
   ],
   "source": [
    "import os\n",
    "import pandas as pd\n",
    "SourceDataDict={}\n",
    "for x in os.listdir(\"./Data\"):\n",
    "    print(x[:-4])\n",
    "    SourceDataDict[x[:-4]]=x"
   ]
  },
  {
   "cell_type": "code",
   "execution_count": 25,
   "id": "f7762842-807f-4012-beb2-cea4c668146c",
   "metadata": {},
   "outputs": [],
   "source": [
    "import pandas as pd\n",
    "\n",
    "def load_data(file_path):\n",
    "    return pd.read_csv(file_path, index_col='Date', parse_dates=True)\n",
    "\n",
    "import numpy as np\n",
    "\n",
    "def calculate_returns(df):\n",
    "    return np.log(df / df.shift(1))\n",
    "\n",
    "from scipy.optimize import minimize\n",
    "\n",
    "def portfolio_annual_performance(weights, mean_returns, cov_matrix):\n",
    "    returns = np.sum(mean_returns*weights ) *252\n",
    "    std = np.sqrt(np.dot(weights.T, np.dot(cov_matrix, weights))) * np.sqrt(252)\n",
    "    return std, returns\n",
    "\n",
    "def min_variance(mean_returns, cov_matrix, risk_free_rate):\n",
    "    num_assets = len(mean_returns)\n",
    "    args = (mean_returns, cov_matrix)\n",
    "    constraints = ({'type': 'eq', 'fun': lambda x: np.sum(x) - 1})\n",
    "    bound = (0.0,1.0)\n",
    "    bounds = tuple(bound for asset in range(num_assets))\n",
    "    result = minimize(portfolio_volatility, num_assets*[1./num_assets,], args=args, method='SLSQP', bounds=bounds, constraints=constraints)\n",
    "    return result\n",
    "\n",
    "def calculate_capm_expected_return(beta, risk_free_rate, market_return):\n",
    "    return risk_free_rate + beta * (market_return - risk_free_rate)\n",
    "\n",
    "def plot_efficient_frontier_and_cml(returns, risks, risk_free_rate, market_return, market_risk):\n",
    "    plt.figure(figsize=(10, 6))\n",
    "    plt.scatter(risks, returns, c=(returns-risk_free_rate)/risks, marker='o')  # Efficient frontier\n",
    "    # Capital Market Line\n",
    "    cml_x = [0, market_risk]\n",
    "    cml_y = [risk_free_rate, market_return]\n",
    "    plt.plot(cml_x, cml_y, color='red', label='Capital Market Line', linewidth=2)\n",
    "    plt.xlabel('Portfolio Risk')\n",
    "    plt.ylabel('Portfolio Return')\n",
    "    plt.title('Efficient Frontier and Capital Market Line')\n",
    "    plt.colorbar(label='Sharpe Ratio')\n",
    "    plt.show()\n",
    "\n",
    "\n",
    "def find_tangency_portfolio(portfolios):\n",
    "    # Assuming 'portfolios' is a DataFrame with columns for 'returns', 'risks', and 'sharpe_ratios'\n",
    "    max_sharpe_idx = portfolios['sharpe_ratios'].idxmax()\n",
    "    tangency_portfolio = portfolios.iloc[max_sharpe_idx]\n",
    "    return tangency_portfolio\n",
    "\n",
    "def plot_sml(risk_free_rate, market_return, betas, asset_returns):\n",
    "    plt.figure(figsize=(10, 6))\n",
    "    market_premium = market_return - risk_free_rate\n",
    "    sml_y = [risk_free_rate + beta * market_premium for beta in betas]\n",
    "    plt.plot(betas, sml_y, label='Security Market Line', linestyle='--', color='green')\n",
    "    plt.scatter(betas, asset_returns, color='blue', label='Assets')\n",
    "    plt.xlabel('Beta')\n",
    "    plt.ylabel('Expected Return')\n",
    "    plt.title('Security Market Line')\n",
    "    plt.legend()\n",
    "    plt.show()\n",
    "\n",
    "def calculate_performance_measures(return_portfolio, std_portfolio, risk_free_rate, beta_portfolio=None):\n",
    "    sharpe_ratio = (return_portfolio - risk_free_rate) / std_portfolio\n",
    "    treynor_ratio = (return_portfolio - risk_free_rate) / beta_portfolio if beta_portfolio else None\n",
    "    return sharpe_ratio, treynor_ratio\n"
   ]
  },
  {
   "cell_type": "code",
   "execution_count": 26,
   "id": "e6ce35be-8ae8-41b3-a6f9-2ec0e451f5e6",
   "metadata": {},
   "outputs": [
    {
     "ename": "TypeError",
     "evalue": "min_variance() missing 1 required positional argument: 'risk_free_rate'",
     "output_type": "error",
     "traceback": [
      "\u001b[1;31m---------------------------------------------------------------------------\u001b[0m",
      "\u001b[1;31mTypeError\u001b[0m                                 Traceback (most recent call last)",
      "Cell \u001b[1;32mIn[26], line 17\u001b[0m\n\u001b[0;32m     13\u001b[0m cov_matrix \u001b[38;5;241m=\u001b[39m returns\u001b[38;5;241m.\u001b[39mcov()\n\u001b[0;32m     15\u001b[0m \u001b[38;5;66;03m# # Assuming a function for optimization (you need to define or adjust it)\u001b[39;00m\n\u001b[0;32m     16\u001b[0m \u001b[38;5;66;03m# # For example, 'min_variance' could be a function to minimize variance for a given return\u001b[39;00m\n\u001b[1;32m---> 17\u001b[0m optimized_portfolio \u001b[38;5;241m=\u001b[39m \u001b[43mmin_variance\u001b[49m\u001b[43m(\u001b[49m\u001b[43mmean_returns\u001b[49m\u001b[43m,\u001b[49m\u001b[43m \u001b[49m\u001b[43mcov_matrix\u001b[49m\u001b[43m)\u001b[49m\n\u001b[0;32m     19\u001b[0m \u001b[38;5;66;03m# # CAPM Expected Return Calculation\u001b[39;00m\n\u001b[0;32m     20\u001b[0m \u001b[38;5;66;03m# # Assuming you have 'beta_values' and other necessary parameters\u001b[39;00m\n\u001b[0;32m     21\u001b[0m risk_free_rate \u001b[38;5;241m=\u001b[39m \u001b[38;5;241m0.02\u001b[39m  \u001b[38;5;66;03m# Example risk-free rate\u001b[39;00m\n",
      "\u001b[1;31mTypeError\u001b[0m: min_variance() missing 1 required positional argument: 'risk_free_rate'"
     ]
    }
   ],
   "source": [
    "\n",
    "# Load Data\n",
    "# For this example, I'll assume 'data.csv' is your file with closing prices\n",
    "data = pd.read_csv('./Data/BOND_EUR Kraken Historical Data.csv', index_col='Date', parse_dates=True)\n",
    "data = data.apply(pd.to_numeric, errors='coerce')\n",
    "# Example: Fill missing values with the previous value in the column\n",
    "data.fillna(method='ffill', inplace=True)\n",
    "\n",
    "# Calculate Returns\n",
    "returns = calculate_returns(data)\n",
    "\n",
    "# # Mean-Variance Optimization\n",
    "mean_returns = returns.mean()\n",
    "cov_matrix = returns.cov()\n",
    "\n",
    "# # Assuming a function for optimization (you need to define or adjust it)\n",
    "# # For example, 'min_variance' could be a function to minimize variance for a given return\n",
    "optimized_portfolio = min_variance(mean_returns, cov_matrix)\n",
    "\n",
    "# # CAPM Expected Return Calculation\n",
    "# # Assuming you have 'beta_values' and other necessary parameters\n",
    "risk_free_rate = 0.02  # Example risk-free rate\n",
    "market_return = 0.08  # Example market return\n",
    "\n",
    "# Plot Efficient Frontier and CML\n",
    "# Assuming 'plot_efficient_frontier_and_cml' is defined and you have the necessary data\n",
    "# You would need to generate portfolios to plot, which is not covered in this snippet\n",
    "\n",
    "# Tangency Portfolio Identification\n",
    "# Assuming 'find_tangency_portfolio' is defined and you have portfolios data\n",
    "\n",
    "# Performance Measures Calculation\n",
    "# Assuming 'calculate_performance_measures' is defined and you have portfolio performance data\n",
    "\n",
    "# Note: Each of these steps requires specific data and preparatory work not fully covered here.\n",
    "# For example, generating portfolios for the efficient frontier, calculating betas for CAPM, etc.\n",
    "\n",
    "# This workflow outlines the process you would follow, with each function being a step in the analysis.\n",
    "# You'll need to adjust the implementation details based on your data structure and analysis needs."
   ]
  },
  {
   "cell_type": "code",
   "execution_count": null,
   "id": "0726acd3-ac02-4245-9ab3-5a8cb9b77578",
   "metadata": {},
   "outputs": [],
   "source": []
  }
 ],
 "metadata": {
  "kernelspec": {
   "display_name": "Python 3 (ipykernel)",
   "language": "python",
   "name": "python3"
  },
  "language_info": {
   "codemirror_mode": {
    "name": "ipython",
    "version": 3
   },
   "file_extension": ".py",
   "mimetype": "text/x-python",
   "name": "python",
   "nbconvert_exporter": "python",
   "pygments_lexer": "ipython3",
   "version": "3.10.11"
  }
 },
 "nbformat": 4,
 "nbformat_minor": 5
}
